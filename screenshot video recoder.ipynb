{
 "cells": [
  {
   "cell_type": "code",
   "execution_count": 4,
   "metadata": {},
   "outputs": [],
   "source": [
    "\n",
    "import numpy as np\n",
    "import cv2\n",
    "import pyautogui as paut\n",
    "# Define the codec and create VideoWriter object\n",
    "forcc = cv2.VideoWriter_fourcc(*'XVID')\n",
    "out = cv2.VideoWriter('output1.avi', forcc, 8, (1920,1080))\n",
    "\n",
    "\n",
    "while True:\n",
    "    # taking screenshots of the current screen\n",
    "    img= paut.screenshot()\n",
    "    img_np=np.array(img)\n",
    "\n",
    "    cv2.imshow('Screen', img_np)\n",
    "    out.write(img_np)\n",
    "\n",
    "\n",
    "    if cv2.waitKey(6) == ord('q'):            # press q to stop the video\n",
    "        break\n",
    "\n",
    "out.release()\n",
    "cv2.destroyAllWindows()"
   ]
  },
  {
   "cell_type": "code",
   "execution_count": null,
   "metadata": {},
   "outputs": [],
   "source": []
  }
 ],
 "metadata": {
  "kernelspec": {
   "display_name": "Python 3",
   "language": "python",
   "name": "python3"
  },
  "language_info": {
   "codemirror_mode": {
    "name": "ipython",
    "version": 3
   },
   "file_extension": ".py",
   "mimetype": "text/x-python",
   "name": "python",
   "nbconvert_exporter": "python",
   "pygments_lexer": "ipython3",
   "version": "3.7.3"
  }
 },
 "nbformat": 4,
 "nbformat_minor": 2
}
